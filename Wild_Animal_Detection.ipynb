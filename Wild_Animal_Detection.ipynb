{
  "cells": [
    {
      "cell_type": "markdown",
      "metadata": {
        "id": "view-in-github",
        "colab_type": "text"
      },
      "source": [
        "<a href=\"https://colab.research.google.com/github/Sanjay-sundaresan/Wild-Animal-Detection/blob/main/Wild_Animal_Detection.ipynb\" target=\"_parent\"><img src=\"https://colab.research.google.com/assets/colab-badge.svg\" alt=\"Open In Colab\"/></a>"
      ]
    },
    {
      "cell_type": "code",
      "execution_count": null,
      "metadata": {
        "id": "hJ4xGQUtcian"
      },
      "outputs": [],
      "source": [
        "import pandas as pd\n",
        "import numpy as np\n",
        "import os\n",
        "from tensorflow import keras\n",
        "import tensorflow as tf\n",
        "from tensorflow.keras.preprocessing.image import ImageDataGenerator\n",
        "from tensorflow.keras.optimizers import Adam\n",
        "from tensorflow.keras.callbacks import ModelCheckpoint\n",
        "import matplotlib.pyplot as plt\n",
        "from tensorflow.keras.models import Sequential\n",
        "from tensorflow.keras.layers import Conv2D\n",
        "from tensorflow.keras.layers import MaxPooling2D\n",
        "from tensorflow.keras.layers import Flatten\n",
        "from tensorflow.keras.layers import Dense,Dropout"
      ]
    },
    {
      "cell_type": "markdown",
      "metadata": {
        "id": "T0MiYPZd75Bj"
      },
      "source": [
        "\n",
        "\n",
        "```\n",
        "# Segmentation Code\n",
        "\n",
        "import skimage.io\n",
        "import scipy\n",
        "from skimage.io import imread\n",
        "from skimage.io import imsave\n",
        "import skimage.viewer\n",
        "import matplotlib.pyplot as plt\n",
        "import numpy as np\n",
        "from scipy import ndimage\n",
        "import cv2,glob,os\n",
        "\n",
        "path = glob.glob('/content/drive/My Drive/Animal_Dataset/train/*.jpg')\n",
        "print(len(path))\n",
        "i = 1\n",
        "\n",
        "for image in range(1000):\n",
        "    img = cv2.imread(path[image])\n",
        "    img=cv2.cvtColor(img,cv2.COLOR_BGR2RGB)\n",
        "    vectorized = img.reshape((-1,3))\n",
        "    vectorized = np.float32(vectorized)\n",
        "    criteria = (cv2.TERM_CRITERIA_EPS + cv2.TERM_CRITERIA_MAX_ITER, 10, 1.0)\n",
        "    K = 3\n",
        "    attempts=10\n",
        "    ret,label,center=cv2.kmeans(vectorized,K,None,criteria,attempts,cv2.KMEANS_PP_CENTERS)\n",
        "    center = np.uint8(center)\n",
        "    res = center[label.flatten()]\n",
        "    result_image = res.reshape((img.shape))\n",
        "    \n",
        "    arr=skimage.img_as_ubyte(result_image)\n",
        "    imsave('/content/drive/My Drive/Animal_Dataset/TRAIN/img%i.png' % i, arr)\n",
        "    i+= 1\n",
        "```\n",
        "  "
      ]
    },
    {
      "cell_type": "code",
      "execution_count": null,
      "metadata": {
        "id": "3vTnJ2RLcifa"
      },
      "outputs": [],
      "source": [
        "train_data_path = \"/content/drive/My Drive/Animal/Train\"\n",
        "valid_data_path = \"/content/drive/My Drive/Animal/Test\""
      ]
    },
    {
      "cell_type": "code",
      "execution_count": null,
      "metadata": {
        "colab": {
          "base_uri": "https://localhost:8080/"
        },
        "id": "F9TMxkQuciiA",
        "outputId": "581d5523-b4ae-413a-eff2-39989bcfe672"
      },
      "outputs": [
        {
          "output_type": "stream",
          "name": "stdout",
          "text": [
            "Found 5790 images belonging to 10 classes.\n"
          ]
        }
      ],
      "source": [
        "training_datagen = ImageDataGenerator(rescale=1./255,\n",
        "                                      rotation_range=30,\n",
        "                                      width_shift_range=0.2,\n",
        "                                      height_shift_range=0.2,\n",
        "                                      shear_range=0.2,\n",
        "                                      zoom_range=0.2,\n",
        "                                      horizontal_flip=True,\n",
        "                                      fill_mode='nearest')\n",
        "\n",
        "training_data = training_datagen.flow_from_directory(train_data_path, \n",
        "                                      target_size=(299,299),shuffle=True)"
      ]
    },
    {
      "cell_type": "code",
      "source": [
        "from google.colab import drive\n",
        "drive.mount('/content/drive')"
      ],
      "metadata": {
        "colab": {
          "base_uri": "https://localhost:8080/"
        },
        "id": "dKqmxkacix1x",
        "outputId": "53246b85-3ae4-4052-b1ef-2ecc057e5e46"
      },
      "execution_count": null,
      "outputs": [
        {
          "output_type": "stream",
          "name": "stdout",
          "text": [
            "Drive already mounted at /content/drive; to attempt to forcibly remount, call drive.mount(\"/content/drive\", force_remount=True).\n"
          ]
        }
      ]
    },
    {
      "cell_type": "code",
      "execution_count": null,
      "metadata": {
        "colab": {
          "base_uri": "https://localhost:8080/"
        },
        "id": "W9XXAYOgcikR",
        "outputId": "5745e35a-a76c-4c88-8a95-7e9a3f18e210"
      },
      "outputs": [
        {
          "output_type": "execute_result",
          "data": {
            "text/plain": [
              "{'Cheetah': 0,\n",
              " 'Chimpanzee': 1,\n",
              " 'Elephant': 2,\n",
              " 'Fox': 3,\n",
              " 'Jaguars': 4,\n",
              " 'Lion': 5,\n",
              " 'Orangutan': 6,\n",
              " 'Panda': 7,\n",
              " 'Panthers': 8,\n",
              " 'Rhino': 9}"
            ]
          },
          "metadata": {},
          "execution_count": 6
        }
      ],
      "source": [
        "training_data.class_indices"
      ]
    },
    {
      "cell_type": "code",
      "execution_count": null,
      "metadata": {
        "colab": {
          "base_uri": "https://localhost:8080/"
        },
        "id": "hwT9_ELGcinK",
        "outputId": "cd8df4c8-363d-4194-8ea2-d3f0de7ae8aa"
      },
      "outputs": [
        {
          "output_type": "stream",
          "name": "stdout",
          "text": [
            "Found 894 images belonging to 10 classes.\n"
          ]
        }
      ],
      "source": [
        "valid_datagen = ImageDataGenerator(rescale=1./255)\n",
        "\n",
        "valid_data = valid_datagen.flow_from_directory(valid_data_path,\n",
        "                                  target_size=(299,299),shuffle=True)"
      ]
    },
    {
      "cell_type": "code",
      "execution_count": null,
      "metadata": {
        "id": "aziSZYa2cipw"
      },
      "outputs": [],
      "source": [
        "from tensorflow.keras.layers import Input,Lambda,Dense,Flatten\n",
        "from tensorflow.keras.models import Model\n",
        "from tensorflow.keras.preprocessing import image\n",
        "from tensorflow.keras.preprocessing.image import ImageDataGenerator\n",
        "from tensorflow.keras.models import Sequential\n",
        "import numpy as np\n",
        "from tensorflow.keras import layers\n",
        "from tensorflow.keras.applications import inception_v3\n",
        "from tensorflow.keras.applications import efficientnet"
      ]
    },
    {
      "cell_type": "code",
      "execution_count": null,
      "metadata": {
        "colab": {
          "base_uri": "https://localhost:8080/"
        },
        "id": "QqyxlDFaciru",
        "outputId": "c8b4aca5-3e45-4aa6-9eb2-36d9c9f13f7a"
      },
      "outputs": [
        {
          "output_type": "stream",
          "name": "stdout",
          "text": [
            "Downloading data from https://storage.googleapis.com/tensorflow/keras-applications/inception_resnet_v2/inception_resnet_v2_weights_tf_dim_ordering_tf_kernels_notop.h5\n",
            "219062272/219055592 [==============================] - 1s 0us/step\n",
            "219070464/219055592 [==============================] - 1s 0us/step\n",
            "Epoch 1/40\n",
            "181/181 [==============================] - 2237s 12s/step - loss: 1.0995 - accuracy: 0.6627 - val_loss: 0.3922 - val_accuracy: 0.8937\n",
            "Epoch 2/40\n",
            "181/181 [==============================] - 147s 810ms/step - loss: 0.5068 - accuracy: 0.8451 - val_loss: 0.3914 - val_accuracy: 0.9072\n",
            "Epoch 3/40\n",
            "181/181 [==============================] - 148s 813ms/step - loss: 0.3715 - accuracy: 0.8938 - val_loss: 0.3747 - val_accuracy: 0.9128\n",
            "Epoch 4/40\n",
            "181/181 [==============================] - 147s 812ms/step - loss: 0.3133 - accuracy: 0.9048 - val_loss: 0.3310 - val_accuracy: 0.9273\n",
            "Epoch 5/40\n",
            "181/181 [==============================] - 147s 811ms/step - loss: 0.2694 - accuracy: 0.9171 - val_loss: 0.4272 - val_accuracy: 0.9195\n",
            "Epoch 6/40\n",
            "181/181 [==============================] - 146s 807ms/step - loss: 0.2198 - accuracy: 0.9373 - val_loss: 0.4149 - val_accuracy: 0.9049\n",
            "Epoch 7/40\n",
            "181/181 [==============================] - 146s 806ms/step - loss: 0.1870 - accuracy: 0.9449 - val_loss: 0.3375 - val_accuracy: 0.9195\n",
            "Epoch 8/40\n",
            "181/181 [==============================] - 147s 809ms/step - loss: 0.1843 - accuracy: 0.9468 - val_loss: 0.3205 - val_accuracy: 0.9329\n",
            "Epoch 9/40\n",
            "181/181 [==============================] - 146s 807ms/step - loss: 0.1414 - accuracy: 0.9604 - val_loss: 0.3716 - val_accuracy: 0.9206\n",
            "Epoch 10/40\n",
            "181/181 [==============================] - 147s 811ms/step - loss: 0.1434 - accuracy: 0.9575 - val_loss: 0.3430 - val_accuracy: 0.9183\n",
            "Epoch 11/40\n",
            "181/181 [==============================] - 148s 817ms/step - loss: 0.1321 - accuracy: 0.9617 - val_loss: 0.5122 - val_accuracy: 0.8960\n",
            "Epoch 12/40\n",
            "181/181 [==============================] - 149s 819ms/step - loss: 0.1641 - accuracy: 0.9532 - val_loss: 0.4580 - val_accuracy: 0.9060\n",
            "Epoch 13/40\n",
            "181/181 [==============================] - 149s 819ms/step - loss: 0.1200 - accuracy: 0.9648 - val_loss: 0.3924 - val_accuracy: 0.9016\n",
            "Epoch 14/40\n",
            "181/181 [==============================] - 148s 818ms/step - loss: 0.1228 - accuracy: 0.9639 - val_loss: 0.4422 - val_accuracy: 0.9217\n",
            "Epoch 15/40\n",
            "181/181 [==============================] - 148s 814ms/step - loss: 0.1084 - accuracy: 0.9691 - val_loss: 0.5244 - val_accuracy: 0.8993\n",
            "Epoch 16/40\n",
            "181/181 [==============================] - 149s 818ms/step - loss: 0.1037 - accuracy: 0.9717 - val_loss: 0.4403 - val_accuracy: 0.9172\n",
            "Epoch 17/40\n",
            "181/181 [==============================] - 147s 808ms/step - loss: 0.0854 - accuracy: 0.9727 - val_loss: 0.3920 - val_accuracy: 0.9284\n",
            "Epoch 18/40\n",
            "181/181 [==============================] - 147s 812ms/step - loss: 0.0937 - accuracy: 0.9717 - val_loss: 0.3964 - val_accuracy: 0.9228\n",
            "Epoch 19/40\n",
            "181/181 [==============================] - 148s 814ms/step - loss: 0.0820 - accuracy: 0.9724 - val_loss: 0.4634 - val_accuracy: 0.9195\n",
            "Epoch 20/40\n",
            "181/181 [==============================] - 148s 814ms/step - loss: 0.0926 - accuracy: 0.9744 - val_loss: 0.4815 - val_accuracy: 0.9172\n",
            "Epoch 21/40\n",
            "181/181 [==============================] - 148s 814ms/step - loss: 0.0899 - accuracy: 0.9712 - val_loss: 0.4048 - val_accuracy: 0.9183\n",
            "Epoch 22/40\n",
            "181/181 [==============================] - 148s 816ms/step - loss: 0.0799 - accuracy: 0.9741 - val_loss: 0.4908 - val_accuracy: 0.9172\n",
            "Epoch 23/40\n",
            "181/181 [==============================] - 149s 817ms/step - loss: 0.0754 - accuracy: 0.9775 - val_loss: 0.7459 - val_accuracy: 0.8781\n",
            "Epoch 24/40\n",
            "181/181 [==============================] - 148s 817ms/step - loss: 0.0860 - accuracy: 0.9782 - val_loss: 0.6606 - val_accuracy: 0.8803\n",
            "Epoch 25/40\n",
            "181/181 [==============================] - 147s 811ms/step - loss: 0.0745 - accuracy: 0.9777 - val_loss: 0.5722 - val_accuracy: 0.9094\n",
            "Epoch 26/40\n",
            "181/181 [==============================] - 147s 809ms/step - loss: 0.0857 - accuracy: 0.9748 - val_loss: 0.5030 - val_accuracy: 0.9150\n",
            "Epoch 27/40\n",
            "181/181 [==============================] - 146s 806ms/step - loss: 0.0718 - accuracy: 0.9803 - val_loss: 0.5546 - val_accuracy: 0.9049\n",
            "Epoch 28/40\n",
            "181/181 [==============================] - 147s 810ms/step - loss: 0.0519 - accuracy: 0.9841 - val_loss: 0.5273 - val_accuracy: 0.9049\n",
            "Epoch 29/40\n",
            "181/181 [==============================] - 149s 819ms/step - loss: 0.0834 - accuracy: 0.9755 - val_loss: 0.4719 - val_accuracy: 0.9116\n",
            "Epoch 30/40\n",
            "181/181 [==============================] - 148s 812ms/step - loss: 0.0830 - accuracy: 0.9763 - val_loss: 0.4633 - val_accuracy: 0.9195\n",
            "Epoch 31/40\n",
            "181/181 [==============================] - 149s 818ms/step - loss: 0.0695 - accuracy: 0.9791 - val_loss: 0.4604 - val_accuracy: 0.9083\n",
            "Epoch 32/40\n",
            "181/181 [==============================] - 148s 815ms/step - loss: 0.0594 - accuracy: 0.9832 - val_loss: 0.5182 - val_accuracy: 0.9128\n",
            "Epoch 33/40\n",
            "181/181 [==============================] - 148s 815ms/step - loss: 0.0642 - accuracy: 0.9807 - val_loss: 0.4128 - val_accuracy: 0.9195\n",
            "Epoch 34/40\n",
            "181/181 [==============================] - 148s 813ms/step - loss: 0.0597 - accuracy: 0.9838 - val_loss: 0.5914 - val_accuracy: 0.9027\n",
            "Epoch 35/40\n",
            "181/181 [==============================] - 148s 813ms/step - loss: 0.0509 - accuracy: 0.9820 - val_loss: 0.5482 - val_accuracy: 0.9139\n",
            "Epoch 36/40\n",
            "181/181 [==============================] - 147s 811ms/step - loss: 0.0710 - accuracy: 0.9786 - val_loss: 0.8451 - val_accuracy: 0.8691\n",
            "Epoch 37/40\n",
            "181/181 [==============================] - 146s 806ms/step - loss: 0.0906 - accuracy: 0.9746 - val_loss: 0.4707 - val_accuracy: 0.9004\n",
            "Epoch 38/40\n",
            "181/181 [==============================] - 147s 811ms/step - loss: 0.0572 - accuracy: 0.9831 - val_loss: 0.6370 - val_accuracy: 0.8814\n",
            "Epoch 39/40\n",
            "181/181 [==============================] - 147s 810ms/step - loss: 0.0469 - accuracy: 0.9846 - val_loss: 0.5526 - val_accuracy: 0.8993\n",
            "Epoch 40/40\n",
            "181/181 [==============================] - 147s 811ms/step - loss: 0.0546 - accuracy: 0.9826 - val_loss: 0.5800 - val_accuracy: 0.8993\n"
          ]
        }
      ],
      "source": [
        "'''mobilenet = tf.keras.applications.MobileNetV2(\n",
        "    weights='imagenet', \n",
        "    include_top=False,  \n",
        "    input_shape=(224,224,3)\n",
        ")'''\n",
        "inception = tf.keras.applications.InceptionResNetV2(\n",
        "    weights='imagenet', \n",
        "    include_top=False,  \n",
        "    input_shape=(299,299,3)\n",
        ")\n",
        "# The Convolutional Neural Network is instantiated using the pre-trained ImageNet weights\n",
        "model = Sequential()\n",
        "model.add(inception)\n",
        "model.add(Flatten())\n",
        "model.add(Dense(units = 512, activation = 'relu'))\n",
        "model.add(Dropout(0.25))\n",
        "model.add(Dense(units = 256, activation = 'relu'))\n",
        "model.add(Dense(units = 10, activation = 'softmax'))\n",
        "# Compiling the CNN\n",
        "model.compile(optimizer = Adam(learning_rate=0.0001), loss = 'categorical_crossentropy', metrics = ['accuracy'])\n",
        "history = model.fit(training_data, \n",
        "                          epochs=40, \n",
        "                          verbose=1, \n",
        "                          validation_data= valid_data) "
      ]
    },
    {
      "cell_type": "code",
      "execution_count": null,
      "metadata": {
        "id": "A5LIaCv7ciuV"
      },
      "outputs": [],
      "source": [
        "#modelpath = 'finalAnimal.h5'\n",
        "#model.save(modelpath)"
      ]
    },
    {
      "cell_type": "code",
      "execution_count": null,
      "metadata": {
        "id": "dFhzjLJi7FWP"
      },
      "outputs": [],
      "source": [
        "#!cp -r \"/content/finalAnimal.h5\" \"/content/drive/MyDrive\""
      ]
    },
    {
      "cell_type": "code",
      "execution_count": null,
      "metadata": {
        "colab": {
          "base_uri": "https://localhost:8080/",
          "height": 573
        },
        "id": "0zdxULs6cixP",
        "outputId": "7d1801c9-2ec1-4c2f-e50d-2e42fb61a64c"
      },
      "outputs": [
        {
          "output_type": "display_data",
          "data": {
            "text/plain": [
              "<Figure size 432x288 with 1 Axes>"
            ],
            "image/png": "[encoded data removed]"
          },
          "metadata": {
            "needs_background": "light"
          }
        },
        {
          "output_type": "display_data",
          "data": {
            "text/plain": [
              "<Figure size 432x288 with 1 Axes>"
            ],
            "image/png": "[encoded data removed]"
          },
          "metadata": {
            "needs_background": "light"
          }
        }
      ],
      "source": [
        "# summarize history for accuracy\n",
        "plt.plot(history.history['accuracy'])\n",
        "plt.plot(history.history['val_accuracy'])\n",
        "plt.title('model accuracy')\n",
        "plt.ylabel('accuracy')\n",
        "plt.xlabel('epoch')\n",
        "plt.legend(['train', 'test'], loc='upper left')\n",
        "plt.show()\n",
        "# summarize history for loss\n",
        "plt.plot(history.history['loss'])\n",
        "plt.plot(history.history['val_loss'])\n",
        "plt.title('model loss')\n",
        "plt.ylabel('loss')\n",
        "plt.xlabel('epoch')\n",
        "plt.legend(['train', 'test'], loc='upper left')\n",
        "plt.show()"
      ]
    },
    {
      "cell_type": "code",
      "execution_count": null,
      "metadata": {
        "colab": {
          "base_uri": "https://localhost:8080/"
        },
        "id": "4SqJp1jbci4E",
        "outputId": "0efdc8a7-c90d-41f3-9524-ea54d37b22c0"
      },
      "outputs": [
        {
          "output_type": "stream",
          "name": "stdout",
          "text": [
            "Mean Training Accuracy:  95.56994795799255\n"
          ]
        }
      ],
      "source": [
        "total = sum(history.history['accuracy'])\n",
        "n = 40\n",
        "print(\"Mean Training Accuracy: \",(total/n)*100)"
      ]
    },
    {
      "cell_type": "code",
      "execution_count": null,
      "metadata": {
        "colab": {
          "base_uri": "https://localhost:8080/"
        },
        "id": "pfdTAdxhci8T",
        "outputId": "582add90-699f-420e-be71-19b7e61341e0"
      },
      "outputs": [
        {
          "output_type": "stream",
          "name": "stdout",
          "text": [
            "Mean Testing Accuracy:  90.88087290525436\n"
          ]
        }
      ],
      "source": [
        "total = sum(history.history['val_accuracy'])\n",
        "n = 40\n",
        "print(\"Mean Testing Accuracy: \",(total/n)*100)"
      ]
    },
    {
      "cell_type": "code",
      "source": [
        "predictions = model.predict(valid_data)"
      ],
      "metadata": {
        "id": "JYJuTmiKo-hO"
      },
      "execution_count": null,
      "outputs": []
    },
    {
      "cell_type": "code",
      "source": [
        "labels = tf.constant([0,1,2,3,4,5,6,7,8,9],dtype = tf.int32)"
      ],
      "metadata": {
        "id": "-NP4reHApDfj"
      },
      "execution_count": null,
      "outputs": []
    },
    {
      "cell_type": "code",
      "source": [
        "predictions"
      ],
      "metadata": {
        "colab": {
          "base_uri": "https://localhost:8080/"
        },
        "id": "q4q7UVLUpUto",
        "outputId": "da36487e-6ed7-4528-9b7b-892c81e07f36"
      },
      "execution_count": null,
      "outputs": [
        {
          "output_type": "execute_result",
          "data": {
            "text/plain": [
              "array([[1.49635249e-04, 9.59507644e-01, 1.03825156e-03, ...,\n",
              "        1.88401272e-03, 7.97117595e-03, 9.85840987e-03],\n",
              "       [9.78355944e-01, 1.80581708e-06, 9.92369605e-05, ...,\n",
              "        1.04924875e-05, 9.15834244e-05, 6.52819654e-05],\n",
              "       [9.61826754e-06, 6.09554276e-02, 1.57467817e-04, ...,\n",
              "        4.23946272e-04, 2.76057486e-04, 8.17345353e-05],\n",
              "       ...,\n",
              "       [6.47718313e-16, 2.83624085e-17, 2.93739252e-15, ...,\n",
              "        7.99074670e-17, 3.47689304e-12, 2.42692727e-10],\n",
              "       [3.52107108e-08, 1.67205243e-07, 2.11610381e-06, ...,\n",
              "        2.44289140e-07, 1.19929078e-04, 9.99877214e-01],\n",
              "       [0.00000000e+00, 0.00000000e+00, 0.00000000e+00, ...,\n",
              "        1.00000000e+00, 3.40147979e-34, 1.66921808e-31]], dtype=float32)"
            ]
          },
          "metadata": {},
          "execution_count": 26
        }
      ]
    },
    {
      "cell_type": "code",
      "execution_count": null,
      "metadata": {
        "id": "z-9r-zPDcjEF"
      },
      "outputs": [],
      "source": [
        ""
      ]
    },
    {
      "cell_type": "code",
      "execution_count": null,
      "metadata": {
        "id": "_EDz46EpcjGT"
      },
      "outputs": [],
      "source": [
        ""
      ]
    },
    {
      "cell_type": "code",
      "execution_count": null,
      "metadata": {
        "id": "Z3AfOYu3cjI5"
      },
      "outputs": [],
      "source": [
        ""
      ]
    },
    {
      "cell_type": "code",
      "execution_count": null,
      "metadata": {
        "id": "ScEZ4HfGcjLZ"
      },
      "outputs": [],
      "source": [
        ""
      ]
    },
    {
      "cell_type": "code",
      "execution_count": null,
      "metadata": {
        "id": "pec3BnYqcjOA"
      },
      "outputs": [],
      "source": [
        ""
      ]
    },
    {
      "cell_type": "code",
      "execution_count": null,
      "metadata": {
        "id": "hakasvPscjQm"
      },
      "outputs": [],
      "source": [
        ""
      ]
    },
    {
      "cell_type": "code",
      "execution_count": null,
      "metadata": {
        "id": "IY1I59xWcjT_"
      },
      "outputs": [],
      "source": [
        ""
      ]
    }
  ],
  "metadata": {
    "accelerator": "GPU",
    "colab": {
      "collapsed_sections": [],
      "machine_shape": "hm",
      "name": "IMGProcessing.ipynb",
      "provenance": [],
      "include_colab_link": true
    },
    "kernelspec": {
      "display_name": "Python 3",
      "name": "python3"
    },
    "language_info": {
      "name": "python"
    }
  },
  "nbformat": 4,
  "nbformat_minor": 0
}